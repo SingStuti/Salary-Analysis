{
 "cells": [
  {
   "cell_type": "code",
   "execution_count": 96,
   "metadata": {},
   "outputs": [],
   "source": [
    "#import libraries\n",
    "import pandas as pd\n",
    "import numpy as np\n",
    "import matplotlib.pyplot as plt\n",
    "import seaborn as sns\n",
    "from sklearn import metrics   #Additional scklearn functions\n",
    "from sklearn.metrics import accuracy_score, roc_curve, auc,recall_score,precision_score,f1_score\n",
    "from progress.bar import Bar\n",
    "%matplotlib inline"
   ]
  },
  {
   "cell_type": "code",
   "execution_count": 5,
   "metadata": {},
   "outputs": [],
   "source": [
    "from sklearn.metrics import roc_auc_score\n",
    "def scores(model,X_train,X_val,y_train,y_val):\n",
    "    train_prob = model.predict_proba(X_train)[:,1]\n",
    "    val_prob = model.predict_proba(X_val)[:,1]\n",
    "    train = roc_auc_score(y_train,train_prob)\n",
    "    val = roc_auc_score(y_val,val_prob)\n",
    "    print('train:',round(train,2),'test:',round(val,2))"
   ]
  },
  {
   "cell_type": "code",
   "execution_count": 6,
   "metadata": {},
   "outputs": [],
   "source": [
    "def annot(fpr,tpr,thr):\n",
    "    k=0\n",
    "    for i,j in zip(fpr,tpr):\n",
    "        if k %50 == 0:\n",
    "            plt.annotate(round(thr[k],2),xy=(i,j), textcoords='data')\n",
    "        k+=1"
   ]
  },
  {
   "cell_type": "code",
   "execution_count": 7,
   "metadata": {},
   "outputs": [],
   "source": [
    "from sklearn.metrics import roc_curve\n",
    "def roc_plot(model,X_train,y_train,X_val,y_val):\n",
    "    train_prob = model.predict_proba(X_train)[:,1]\n",
    "    val_prob = model.predict_proba(X_val)[:,1]\n",
    "    plt.figure(figsize=(7,7))\n",
    "    for data in [[y_train, train_prob],[y_val, val_prob]]: # ,[y_test, test_prob]\n",
    "        fpr, tpr, threshold = roc_curve(data[0], data[1])\n",
    "        plt.plot(fpr, tpr)\n",
    "    annot(fpr, tpr, threshold)\n",
    "    plt.plot([0, 1], [0, 1], color='navy', linestyle='--')\n",
    "    plt.ylabel('TPR (power)')\n",
    "    plt.xlabel('FPR (alpha)')\n",
    "    plt.legend(['train','val'])\n",
    "    plt.show()"
   ]
  },
  {
   "cell_type": "code",
   "execution_count": 8,
   "metadata": {},
   "outputs": [],
   "source": [
    "def opt_plots(opt_model):\n",
    "    opt = pd.DataFrame(opt_model.cv_results_)\n",
    "    cols = [col for col in opt.columns if ('mean' in col or 'std' in col) and 'time' not in col]\n",
    "    params = pd.DataFrame(list(opt.params))\n",
    "    opt = pd.concat([params,opt[cols]],axis=1,sort=False)\n",
    "    \n",
    "    plt.figure(figsize=[15,4])\n",
    "    plt.subplot(121)\n",
    "    sns.heatmap(pd.pivot_table(opt,index='max_depth',columns='min_samples_leaf',values='mean_train_score')*100)\n",
    "    plt.title('ROC_AUC - Training')\n",
    "    plt.subplot(122)\n",
    "    sns.heatmap(pd.pivot_table(opt,index='max_depth',columns='min_samples_leaf',values='mean_test_score')*100)\n",
    "    plt.title('ROC_AUC - Validation')\n",
    "#     return opt"
   ]
  },
  {
   "cell_type": "markdown",
   "metadata": {},
   "source": [
    "#### Dataset"
   ]
  },
  {
   "cell_type": "code",
   "execution_count": 23,
   "metadata": {},
   "outputs": [],
   "source": [
    "columns1=['age','workclass','fnlwgt','education','education_num','marital_status','occupation','relationship','race','sex','capital_gain','capital_loss','hours_per_week','native_country','sal']\n",
    "raw_df=pd.read_csv('adult.data',names=columns1)"
   ]
  },
  {
   "cell_type": "code",
   "execution_count": 24,
   "metadata": {},
   "outputs": [],
   "source": [
    "raw_df['native_country'] = raw_df['native_country'].str.strip()"
   ]
  },
  {
   "cell_type": "code",
   "execution_count": 25,
   "metadata": {},
   "outputs": [],
   "source": [
    "#slicing dataset for native_country is united states\n",
    "usa_df=raw_df[raw_df['native_country']=='United-States']"
   ]
  },
  {
   "cell_type": "code",
   "execution_count": 26,
   "metadata": {},
   "outputs": [],
   "source": [
    "#slicing dataset for native_country is  not united states\n",
    "other_df=raw_df[raw_df['native_country']!='United-States']"
   ]
  },
  {
   "cell_type": "code",
   "execution_count": 27,
   "metadata": {},
   "outputs": [],
   "source": [
    "df=usa_df.copy()#copying dataset to df\n",
    "df.drop(['capital_gain','capital_loss','education_num','fnlwgt','native_country'],axis=1,inplace=True)"
   ]
  },
  {
   "cell_type": "code",
   "execution_count": 28,
   "metadata": {},
   "outputs": [],
   "source": [
    "df = pd.get_dummies(df,columns=['sal'],drop_first=True)"
   ]
  },
  {
   "cell_type": "code",
   "execution_count": 29,
   "metadata": {},
   "outputs": [],
   "source": [
    "cat_feats=['workclass','education','marital_status','occupation','relationship','race','sex']\n",
    "df = pd.get_dummies(df,columns=cat_feats,drop_first=True)"
   ]
  },
  {
   "cell_type": "code",
   "execution_count": null,
   "metadata": {},
   "outputs": [],
   "source": []
  },
  {
   "cell_type": "code",
   "execution_count": 30,
   "metadata": {},
   "outputs": [],
   "source": [
    "#partitioning predictor and target variable\n",
    "y=df['sal_ >50K']\n",
    "X=df.drop(['sal_ >50K'],axis=1)\n",
    "#train test split\n",
    "from sklearn.model_selection import train_test_split\n",
    "X_train, X_test, y_train, y_test = train_test_split(X,y,test_size=.2,random_state=42)\n",
    "X_train,X_val,y_train,y_val = train_test_split(X_train,y_train,test_size=.2,random_state=42)"
   ]
  },
  {
   "cell_type": "markdown",
   "metadata": {},
   "source": [
    "### Modeling"
   ]
  },
  {
   "cell_type": "code",
   "execution_count": 32,
   "metadata": {},
   "outputs": [
    {
     "data": {
      "text/plain": [
       "XGBClassifier(base_score=0.5, booster='gbtree', colsample_bylevel=1,\n",
       "              colsample_bynode=1, colsample_bytree=1, gamma=0,\n",
       "              learning_rate=0.1, max_delta_step=0, max_depth=3,\n",
       "              min_child_weight=1, missing=None, n_estimators=100, n_jobs=1,\n",
       "              nthread=None, objective='binary:logistic', random_state=0,\n",
       "              reg_alpha=0, reg_lambda=1, scale_pos_weight=1, seed=None,\n",
       "              silent=None, subsample=1, verbosity=1)"
      ]
     },
     "execution_count": 32,
     "metadata": {},
     "output_type": "execute_result"
    }
   ],
   "source": [
    "from xgboost import XGBClassifier\n",
    "# Instantiate XGBClassifier\n",
    "model = XGBClassifier()\n",
    "\n",
    "# Fit XGBClassifier\n",
    "model.fit(X_train, y_train)\n",
    "# Predict on training and test sets\n",
    "training_preds = clf.predict(X_train)\n",
    "# Check the AUC for predictions\n",
    "false_positive_rate, true_positive_rate, thresholds = roc_curve(y_train,training_preds)\n",
    "roc_auc = auc(false_positive_rate,true_positive_rate)\n",
    "print('\\nAUC is :{0}'.format(round(roc_auc, 2)))\n",
    "\n",
    "\n"
   ]
  },
  {
   "cell_type": "code",
   "execution_count": 33,
   "metadata": {},
   "outputs": [
    {
     "name": "stdout",
     "output_type": "stream",
     "text": [
      "train: 0.9 test: 0.89\n"
     ]
    },
    {
     "data": {
      "image/png": "[encoded data removed]",
      "text/plain": [
       "<Figure size 504x504 with 1 Axes>"
      ]
     },
     "metadata": {
      "needs_background": "light"
     },
     "output_type": "display_data"
    }
   ],
   "source": [
    "scores(model,X_train,X_val,y_train,y_val)\n",
    "roc_plot(model,X_train,y_train,X_val,y_val)"
   ]
  },
  {
   "cell_type": "markdown",
   "metadata": {},
   "source": [
    "### GridSearch CV with XGBoost"
   ]
  },
  {
   "cell_type": "code",
   "execution_count": 37,
   "metadata": {},
   "outputs": [
    {
     "name": "stderr",
     "output_type": "stream",
     "text": [
      "/opt/anaconda3/lib/python3.7/site-packages/sklearn/model_selection/_split.py:296: FutureWarning: Setting a random_state has no effect since shuffle is False. This will raise an error in 0.24. You should leave random_state to its default (None), or set shuffle=True.\n",
      "  FutureWarning\n"
     ]
    },
    {
     "name": "stdout",
     "output_type": "stream",
     "text": [
      "train: 0.9 test: 0.89\n",
      "{'learning_rate': 0.1}\n"
     ]
    }
   ],
   "source": [
    "from sklearn.model_selection import GridSearchCV,StratifiedKFold\n",
    "\n",
    "\n",
    "skf = StratifiedKFold(n_splits=5,random_state=42)\n",
    "param_grid = {'learning_rate':[lr/100 for lr in range(1,10+1)]}\n",
    "\n",
    "opt_model = GridSearchCV(model,param_grid,cv=skf,scoring='roc_auc',return_train_score=True,n_jobs=-1)\n",
    "opt_model.fit(X_train,y_train)\n",
    "best_model = opt_model.best_estimator_\n",
    "\n",
    "scores(best_model,X_train,X_val,y_train,y_val)\n",
    "print(opt_model.best_params_)\n"
   ]
  },
  {
   "cell_type": "code",
   "execution_count": null,
   "metadata": {},
   "outputs": [],
   "source": []
  },
  {
   "cell_type": "markdown",
   "metadata": {},
   "source": [
    "#### Tuning learning rate and fixed number of estimators for tuning tree-based parameters"
   ]
  },
  {
   "cell_type": "code",
   "execution_count": null,
   "metadata": {},
   "outputs": [],
   "source": []
  },
  {
   "cell_type": "code",
   "execution_count": 38,
   "metadata": {},
   "outputs": [
    {
     "name": "stdout",
     "output_type": "stream",
     "text": [
      "train: 0.92 test: 0.88\n",
      "{'learning_rate': 1}\n"
     ]
    }
   ],
   "source": [
    "param_grid = {'learning_rate':[lr for lr in range(1,10+1)]}\n",
    "\n",
    "opt_model = GridSearchCV(model,param_grid,cv=skf,scoring='roc_auc',return_train_score=True,n_jobs=-1)\n",
    "opt_model.fit(X_train,y_train)\n",
    "best_model = opt_model.best_estimator_\n",
    "\n",
    "scores(best_model,X_train,X_val,y_train,y_val)\n",
    "print(opt_model.best_params_)\n",
    "# opt_plots(opt_model)"
   ]
  },
  {
   "cell_type": "markdown",
   "metadata": {},
   "source": [
    "#### Tune max_depth and min_child_weight\n",
    "The ideal values are 5 for max_depth and 5 for min_child_weight. Lets go one step deeper and look for optimum values. We’ll search for values 1 above and below the optimum values because we took an interval of two."
   ]
  },
  {
   "cell_type": "code",
   "execution_count": 40,
   "metadata": {},
   "outputs": [
    {
     "name": "stderr",
     "output_type": "stream",
     "text": [
      "/opt/anaconda3/lib/python3.7/site-packages/sklearn/model_selection/_search.py:823: FutureWarning: The parameter 'iid' is deprecated in 0.22 and will be removed in 0.24.\n",
      "  \"removed in 0.24.\", FutureWarning\n"
     ]
    },
    {
     "name": "stdout",
     "output_type": "stream",
     "text": [
      "train: 0.91 test: 0.89\n",
      "{'max_depth': 5, 'min_child_weight': 5}\n"
     ]
    }
   ],
   "source": [
    "param_test1 = {\n",
    " 'max_depth':range(3,10,2),\n",
    " 'min_child_weight':range(1,6,2)\n",
    "}\n",
    "opt_model = GridSearchCV(estimator = XGBClassifier( learning_rate =0.1, n_estimators=140, max_depth=5,\n",
    " min_child_weight=1, gamma=0, subsample=0.8, colsample_bytree=0.8,\n",
    " objective= 'binary:logistic', nthread=4, scale_pos_weight=1, seed=27), \n",
    " param_grid = param_test1, scoring='roc_auc',n_jobs=4,iid=False, cv=5)\n",
    "opt_model.fit(X_train,y_train)\n",
    "best_model = opt_model.best_estimator_\n",
    "scores(best_model,X_train,X_val,y_train,y_val)\n",
    "print(opt_model.best_params_)\n",
    "print(opt_model.grid_scores_)\n",
    "print(opt_model.best_score_)"
   ]
  },
  {
   "cell_type": "code",
   "execution_count": 41,
   "metadata": {},
   "outputs": [
    {
     "name": "stderr",
     "output_type": "stream",
     "text": [
      "/opt/anaconda3/lib/python3.7/site-packages/sklearn/model_selection/_search.py:823: FutureWarning: The parameter 'iid' is deprecated in 0.22 and will be removed in 0.24.\n",
      "  \"removed in 0.24.\", FutureWarning\n"
     ]
    },
    {
     "name": "stdout",
     "output_type": "stream",
     "text": [
      "train: 0.91 test: 0.89\n",
      "{'max_depth': 4, 'min_child_weight': 4}\n"
     ]
    }
   ],
   "source": [
    "param_test2 = {\n",
    " 'max_depth':[4,5,6],\n",
    " 'min_child_weight':[4,5,6]\n",
    "}\n",
    "opt_model = GridSearchCV(estimator = XGBClassifier( learning_rate =0.1, n_estimators=140, max_depth=5,\n",
    " min_child_weight=1, gamma=0, subsample=0.8, colsample_bytree=0.8,\n",
    " objective= 'binary:logistic', nthread=4, scale_pos_weight=1, seed=27), \n",
    " param_grid = param_test2, scoring='roc_auc',n_jobs=4,iid=False, cv=5)\n",
    "opt_model.fit(X_train,y_train)\n",
    "best_model = opt_model.best_estimator_\n",
    "scores(best_model,X_train,X_val,y_train,y_val)\n",
    "print(opt_model.best_params_)\n",
    "print(opt_model.grid_scores_)\n",
    "print(opt_model.best_score_)"
   ]
  },
  {
   "cell_type": "markdown",
   "metadata": {},
   "source": [
    "###  Tune gamma"
   ]
  },
  {
   "cell_type": "code",
   "execution_count": 43,
   "metadata": {},
   "outputs": [
    {
     "name": "stderr",
     "output_type": "stream",
     "text": [
      "/opt/anaconda3/lib/python3.7/site-packages/sklearn/model_selection/_search.py:823: FutureWarning: The parameter 'iid' is deprecated in 0.22 and will be removed in 0.24.\n",
      "  \"removed in 0.24.\", FutureWarning\n"
     ]
    },
    {
     "name": "stdout",
     "output_type": "stream",
     "text": [
      "train: 0.91 test: 0.89\n",
      "{'gamma': 0.3}\n"
     ]
    }
   ],
   "source": [
    "param_test3 = {\n",
    " 'gamma':[i/10.0 for i in range(0,5)]\n",
    "}\n",
    "opt_model = GridSearchCV(estimator = XGBClassifier( learning_rate =0.1, n_estimators=140, max_depth=4,\n",
    "min_child_weight=4, gamma=0, subsample=0.8, colsample_bytree=0.8,\n",
    "objective= 'binary:logistic', nthread=4, scale_pos_weight=1,seed=27), \n",
    "param_grid = param_test3, scoring='roc_auc',n_jobs=4,iid=False, cv=5)\n",
    "opt_model.fit(X_train,y_train)\n",
    "best_model = opt_model.best_estimator_\n",
    "scores(best_model,X_train,X_val,y_train,y_val)\n",
    "print(opt_model.best_params_)\n",
    "print(opt_model.grid_scores_)\n",
    "print(opt_model.best_score_)"
   ]
  },
  {
   "cell_type": "markdown",
   "metadata": {},
   "source": [
    "#### Tune subsample and colsample_bytree"
   ]
  },
  {
   "cell_type": "code",
   "execution_count": 51,
   "metadata": {},
   "outputs": [
    {
     "name": "stderr",
     "output_type": "stream",
     "text": [
      "/opt/anaconda3/lib/python3.7/site-packages/sklearn/model_selection/_search.py:823: FutureWarning: The parameter 'iid' is deprecated in 0.22 and will be removed in 0.24.\n",
      "  \"removed in 0.24.\", FutureWarning\n"
     ]
    },
    {
     "name": "stdout",
     "output_type": "stream",
     "text": [
      "train: 0.91 test: 0.89\n",
      "{'colsample_bytree': 0.6, 'subsample': 0.7}\n"
     ]
    }
   ],
   "source": [
    "param_test4 = {\n",
    " 'subsample':[i/10.0 for i in range(6,10)],\n",
    " 'colsample_bytree':[i/10.0 for i in range(6,10)]\n",
    "}\n",
    "opt_model = GridSearchCV(estimator = XGBClassifier( learning_rate =0.1, n_estimators=177, max_depth=4,\n",
    "min_child_weight=4, gamma=0.3, subsample=0.8, colsample_bytree=0.8,\n",
    "objective= 'binary:logistic', nthread=4, scale_pos_weight=1,seed=27), \n",
    "param_grid = param_test4, scoring='roc_auc',n_jobs=4,iid=False, cv=5)\n",
    "opt_model.fit(X_train,y_train)\n",
    "best_model = opt_model.best_estimator_\n",
    "scores(best_model,X_train,X_val,y_train,y_val)\n",
    "print(opt_model.best_params_)\n",
    "# print(opt_model.grid_scores_)\n",
    "# print(opt_model.best_score_)"
   ]
  },
  {
   "cell_type": "code",
   "execution_count": 62,
   "metadata": {},
   "outputs": [
    {
     "name": "stderr",
     "output_type": "stream",
     "text": [
      "/opt/anaconda3/lib/python3.7/site-packages/sklearn/model_selection/_search.py:823: FutureWarning: The parameter 'iid' is deprecated in 0.22 and will be removed in 0.24.\n",
      "  \"removed in 0.24.\", FutureWarning\n"
     ]
    },
    {
     "name": "stdout",
     "output_type": "stream",
     "text": [
      "train: 0.91 test: 0.89\n",
      "{'colsample_bytree': 0.6, 'subsample': 0.55}\n"
     ]
    }
   ],
   "source": [
    "param_test5 = {\n",
    " 'subsample':[i/100.0 for i in range(50,70,5)],\n",
    " 'colsample_bytree':[i/100.0 for i in range(60,80,5)]\n",
    "}\n",
    "opt_model = GridSearchCV(estimator = XGBClassifier( learning_rate =0.1, n_estimators=177, max_depth=4,\n",
    "min_child_weight=4, gamma=0.3, subsample=0.8, colsample_bytree=0.8,\n",
    "objective= 'binary:logistic', nthread=4, scale_pos_weight=1,seed=27), \n",
    "param_grid = param_test5, scoring='roc_auc',n_jobs=4,iid=False, cv=5)\n",
    "opt_model.fit(X_train,y_train)\n",
    "best_model = opt_model.best_estimator_\n",
    "scores(best_model,X_train,X_val,y_train,y_val)\n",
    "print(opt_model.best_params_)"
   ]
  },
  {
   "cell_type": "code",
   "execution_count": 63,
   "metadata": {},
   "outputs": [
    {
     "name": "stdout",
     "output_type": "stream",
     "text": [
      "0.8947165983132855\n"
     ]
    }
   ],
   "source": [
    "print(opt_model.best_score_)\n"
   ]
  },
  {
   "cell_type": "markdown",
   "metadata": {},
   "source": [
    "### Tuning Regularization Parameters"
   ]
  },
  {
   "cell_type": "code",
   "execution_count": 64,
   "metadata": {},
   "outputs": [
    {
     "name": "stderr",
     "output_type": "stream",
     "text": [
      "/opt/anaconda3/lib/python3.7/site-packages/sklearn/model_selection/_search.py:823: FutureWarning: The parameter 'iid' is deprecated in 0.22 and will be removed in 0.24.\n",
      "  \"removed in 0.24.\", FutureWarning\n"
     ]
    },
    {
     "name": "stdout",
     "output_type": "stream",
     "text": [
      "train: 0.91 test: 0.89\n",
      "{'reg_alpha': 1e-05}\n",
      "0.8946076982573137\n"
     ]
    }
   ],
   "source": [
    "param_test6 = {\n",
    "            'reg_alpha':[1e-5, 1e-2, 0.1, 1, 100]\n",
    "}\n",
    "opt_model = GridSearchCV(estimator = XGBClassifier( learning_rate =0.1, n_estimators=177, max_depth=4,\n",
    "min_child_weight=4, gamma=0.3, subsample=0.8, colsample_bytree=0.7,\n",
    "objective= 'binary:logistic', nthread=4, scale_pos_weight=1,seed=27), \n",
    "param_grid = param_test6, scoring='roc_auc',n_jobs=4,iid=False, cv=5)\n",
    "opt_model.fit(X_train,y_train)\n",
    "best_model = opt_model.best_estimator_\n",
    "scores(best_model,X_train,X_val,y_train,y_val)\n",
    "print(opt_model.best_params_)\n",
    "print(opt_model.best_score_)\n"
   ]
  },
  {
   "cell_type": "markdown",
   "metadata": {},
   "source": [
    "#### Final model and Threshold calculation"
   ]
  },
  {
   "cell_type": "code",
   "execution_count": 94,
   "metadata": {},
   "outputs": [
    {
     "name": "stdout",
     "output_type": "stream",
     "text": [
      "train: 0.91 test: 0.89\n",
      "{'reg_alpha': 1e-05}\n",
      "0.8946076982573137\n",
      "\n",
      "Model Report\n",
      "Accuracy : 0.8677\n",
      "AUC Score (Train): 0.926268\n"
     ]
    }
   ],
   "source": [
    "from xgboost import XGBClassifier, plot_importance\n",
    "\n",
    "xgb3 = XGBClassifier(\n",
    " learning_rate =0.1,\n",
    " n_estimators=1000,\n",
    " max_depth=4,\n",
    " min_child_weight=4,\n",
    " gamma=0.0,\n",
    " subsample=0.55,\n",
    " colsample_bytree=0.6,\n",
    " reg_alpha=0.00005,\n",
    " objective= 'binary:logistic',\n",
    " nthread=4,\n",
    " scale_pos_weight=1,\n",
    " seed=27)\n",
    "xgb3.fit(X_train,y_train)\n",
    "best_model = opt_model.best_estimator_\n",
    "scores(best_model,X_train,X_val,y_train,y_val)\n",
    "print(opt_model.best_params_)\n",
    "print(opt_model.best_score_)\n",
    "\n",
    "#Predict training set:\n",
    "predictions = xgb3.predict(X_train)\n",
    "predprob = xgb3.predict_proba(X_train)[:,1]\n",
    "        \n",
    "#Print model report:\n",
    "print (\"\\nModel Report\")\n",
    "print (\"Accuracy : %.4g\" % metrics.accuracy_score(y_train, predictions))\n",
    "print (\"AUC Score (Train): %f\" % metrics.roc_auc_score(y_train, predprob))\n",
    "                    \n",
    "#Getting values of FPR,TPR and Threshold at each point of curve\n",
    "fpr, tpr, threshold = roc_curve(y_train,predprob)\n",
    "\n",
    "\n",
    "\n",
    "\n",
    "\n"
   ]
  },
  {
   "cell_type": "code",
   "execution_count": 120,
   "metadata": {},
   "outputs": [
    {
     "data": {
      "text/plain": [
       "<sklearn.metrics._plot.confusion_matrix.ConfusionMatrixDisplay at 0x1a23b8b0d0>"
      ]
     },
     "execution_count": 120,
     "metadata": {},
     "output_type": "execute_result"
    },
    {
     "data": {
      "image/png": "[encoded data removed]",
      "text/plain": [
       "<Figure size 432x288 with 2 Axes>"
      ]
     },
     "metadata": {
      "needs_background": "light"
     },
     "output_type": "display_data"
    }
   ],
   "source": [
    "plot_confusion_matrix(xgb3, X_test,y_test,values_format='d')"
   ]
  },
  {
   "cell_type": "markdown",
   "metadata": {},
   "source": [
    " ##### Metz(m)=(1-Prevalence/Prevalence)*cost(FP)-cost(TN)/cost(FN)-cost(TP)\n",
    " #### fm=TPR-m(FPR)"
   ]
  },
  {
   "cell_type": "markdown",
   "metadata": {},
   "source": [
    "#### Threshold Calculation(1st Case)if m=1\n",
    " This case is applicable for people native to USA,false positive and false negative both cost same. Here we choose m=1\n",
    "     "
   ]
  },
  {
   "cell_type": "code",
   "execution_count": 79,
   "metadata": {},
   "outputs": [
    {
     "name": "stdout",
     "output_type": "stream",
     "text": [
      "Best Threshold:-  0.22\n"
     ]
    }
   ],
   "source": [
    "#Getting the best threshold(max(TPR-FPR)) for m=1\n",
    "threshold_chosen = 0\n",
    "difference = 0\n",
    "for i in range(len(threshold)):\n",
    "    temp = tpr[i]-fpr[i]\n",
    "    if temp>difference:\n",
    "        difference=temp\n",
    "        threshold_chosen=threshold[i]\n",
    "threshold_chosen = round(threshold_chosen,2)\n",
    "print('Best Threshold:- ',threshold_chosen)"
   ]
  },
  {
   "cell_type": "markdown",
   "metadata": {},
   "source": [
    "#### m calculation\n",
    "#### (1-Prevalence/Prevalence)\n",
    "#### This case is for people not native to USA.  So our priority will be to avoid people earning less than 50K, to enter USA. We will assign high cost to False Positive cases .Cost of False positive is highest 15, for True negative and false negative is 1 and for True positive is 5."
   ]
  },
  {
   "cell_type": "code",
   "execution_count": 115,
   "metadata": {},
   "outputs": [],
   "source": [
    "#from confusion matrix prevalence\n",
    "pre=0.75"
   ]
  },
  {
   "cell_type": "code",
   "execution_count": 116,
   "metadata": {},
   "outputs": [],
   "source": [
    "###cost(FP)-cost(TN)/cost(FN)-cost(TP)\n",
    "\n",
    "c=0.488"
   ]
  },
  {
   "cell_type": "code",
   "execution_count": 118,
   "metadata": {},
   "outputs": [
    {
     "data": {
      "text/plain": [
       "0.366"
      ]
     },
     "execution_count": 118,
     "metadata": {},
     "output_type": "execute_result"
    }
   ],
   "source": [
    "m=pre*c\n",
    "m"
   ]
  },
  {
   "cell_type": "code",
   "execution_count": 119,
   "metadata": {},
   "outputs": [
    {
     "name": "stdout",
     "output_type": "stream",
     "text": [
      "Best Threshold:-  0.14\n"
     ]
    }
   ],
   "source": [
    "#Getting the best threshold(max(TPR-FPR)) for m=1\n",
    "threshold_chosen = 0\n",
    "difference = 0\n",
    "for i in range(len(threshold)):\n",
    "    temp = tpr[i]-(m*fpr[i])\n",
    "    if temp>difference:\n",
    "        difference=temp\n",
    "        threshold_chosen=threshold[i]\n",
    "threshold_chosen = round(threshold_chosen,2)\n",
    "print('Best Threshold:- ',threshold_chosen)"
   ]
  },
  {
   "cell_type": "markdown",
   "metadata": {},
   "source": [
    "#### confusion matrix"
   ]
  },
  {
   "cell_type": "code",
   "execution_count": 97,
   "metadata": {},
   "outputs": [
    {
     "name": "stdout",
     "output_type": "stream",
     "text": [
      "Accuracy score: 0.79\n",
      "Recall score: 0.86\n",
      "Precision score: 0.55\n",
      "F1 score: 0.67\n"
     ]
    }
   ],
   "source": [
    "\n",
    "\n",
    "from sklearn.metrics import confusion_matrix\n",
    "y_pred = np.where(xgb3.predict_proba(X_val)[:,1] > threshold_chosen, 1, 0)\n",
    "print ('Accuracy score:', round(accuracy_score(y_val, y_pred),2))\n",
    "print ('Recall score:', round(recall_score(y_val, y_pred), 2))\n",
    "print ('Precision score:', round(precision_score(y_val, y_pred), 2))\n",
    "print ('F1 score:', round(f1_score(y_val, y_pred), 2))\n"
   ]
  },
  {
   "cell_type": "markdown",
   "metadata": {},
   "source": [
    "#### Variable Importance"
   ]
  },
  {
   "cell_type": "code",
   "execution_count": 80,
   "metadata": {},
   "outputs": [
    {
     "name": "stdout",
     "output_type": "stream",
     "text": [
      "['marital_status_ Married-civ-spouse', 0.33423337]\n",
      "['marital_status_ Never-married', 0.0017743115]\n",
      "['relationship_ Own-child', 0.030988175]\n",
      "['education_ Prof-school', 0.026891233]\n",
      "['relationship_ Unmarried', 0.006721209]\n",
      "['occupation_ Prof-specialty', 0.063271984]\n",
      "['education_ Masters', 0.04151464]\n",
      "['education_ 7th-8th', 0.022321548]\n",
      "['occupation_ Exec-managerial', 0.06903073]\n",
      "['education_ Doctorate', 0.017845651]\n",
      "['occupation_ Other-service', 0.030466896]\n",
      "['education_ Bachelors', 0.03596556]\n",
      "['education_ 9th', 0.014625047]\n",
      "['education_ 11th', 0.017924352]\n",
      "['education_ 5th-6th', 0.0059278226]\n",
      "['relationship_ Wife', 0.015101135]\n",
      "['education_ HS-grad', 0.031721547]\n",
      "['relationship_ Not-in-family', 0.014254919]\n",
      "['occupation_ Farming-fishing', 0.017113626]\n",
      "['occupation_ Handlers-cleaners', 0.015882893]\n",
      "['occupation_ Tech-support', 0.012574329]\n",
      "['age', 0.025524108]\n",
      "['workclass_ Self-emp-inc', 0.0125445835]\n",
      "['hours_per_week', 0.020596953]\n",
      "['sex_ Male', 0.011592522]\n",
      "['workclass_ Federal-gov', 0.01016818]\n",
      "['occupation_ Machine-op-inspct', 0.016361082]\n",
      "['occupation_ Protective-serv', 0.007768157]\n",
      "['workclass_ Self-emp-not-inc', 0.007548655]\n",
      "['occupation_ Sales', 0.007565594]\n",
      "['occupation_ Transport-moving', 0.0024891233]\n",
      "['relationship_ Other-relative', 0.0075746295]\n",
      "['workclass_ Local-gov', 0.005064517]\n",
      "['race_ White', 0.0057627778]\n",
      "['education_ Some-college', 0.0]\n",
      "['race_ Black', 0.0010418039]\n",
      "['occupation_ Craft-repair', 0.0014783677]\n",
      "['marital_status_ Married-spouse-absent', 0.0]\n",
      "['marital_status_ Separated', 0.0]\n",
      "['education_ Assoc-voc', 0.0005714976]\n",
      "['education_ Assoc-acdm', 0.002631267]\n",
      "['education_ 12th', 0.0008289294]\n",
      "['marital_status_ Widowed', 0.0063737803]\n",
      "['race_ Asian-Pac-Islander', 0.0]\n",
      "['workclass_ State-gov', 0.0028253554]\n",
      "['occupation_ Adm-clerical', 0.003873977]\n",
      "['workclass_ Private', 0.0037659241]\n",
      "['occupation_ Priv-house-serv', 0.0]\n",
      "['education_ 1st-4th', 0.0]\n",
      "['workclass_ Without-pay', 0.0]\n",
      "['education_ Preschool', 0.0]\n",
      "['occupation_ Armed-Forces', 0.0]\n",
      "['workclass_ Never-worked', 0.0]\n",
      "['marital_status_ Married-AF-spouse', 0.009897216]\n",
      "['race_ Other', 0.0]\n"
     ]
    },
    {
     "data": {
      "image/png": "[encoded data removed]",
      "text/plain": [
       "<Figure size 432x288 with 1 Axes>"
      ]
     },
     "metadata": {
      "needs_background": "light"
     },
     "output_type": "display_data"
    }
   ],
   "source": [
    "sorted_idx = np.argsort(xgb3.feature_importances_)[::-1]\n",
    "for index in sorted_idx:\n",
    "    print([X.columns[index], model.feature_importances_[index]]) \n",
    "plot_importance(model, max_num_features = 5)\n",
    "plt.plot(kind='bar', title='Feature Importances')\n",
    "plt.ylabel('Feature Importance Score')\n",
    "plt.show()"
   ]
  },
  {
   "cell_type": "code",
   "execution_count": 101,
   "metadata": {},
   "outputs": [],
   "source": [
    "from sklearn.metrics import plot_confusion_matrix"
   ]
  },
  {
   "cell_type": "code",
   "execution_count": 111,
   "metadata": {},
   "outputs": [
    {
     "data": {
      "text/plain": [
       "<sklearn.metrics._plot.confusion_matrix.ConfusionMatrixDisplay at 0x1a20f4b090>"
      ]
     },
     "execution_count": 111,
     "metadata": {},
     "output_type": "execute_result"
    },
    {
     "data": {
      "image/png": "[encoded data removed]",
      "text/plain": [
       "<Figure size 432x288 with 2 Axes>"
      ]
     },
     "metadata": {
      "needs_background": "light"
     },
     "output_type": "display_data"
    }
   ],
   "source": [
    "plot_confusion_matrix(xgb3, X_test,y_test,values_format='d')\n",
    "\n",
    "\n",
    "\n"
   ]
  },
  {
   "cell_type": "code",
   "execution_count": null,
   "metadata": {},
   "outputs": [],
   "source": []
  },
  {
   "cell_type": "code",
   "execution_count": null,
   "metadata": {},
   "outputs": [],
   "source": [
    "# scores(best_model,X_train,X_val,y_train,y_val)\n",
    "# roc_plot(best_model,X_train,y_train,X_val,y_val)"
   ]
  },
  {
   "cell_type": "code",
   "execution_count": 98,
   "metadata": {},
   "outputs": [],
   "source": [
    "best_model = xgb3"
   ]
  },
  {
   "cell_type": "code",
   "execution_count": 100,
   "metadata": {},
   "outputs": [],
   "source": [
    "# scores(best_model,X_val,X_test,y_train,y_test)"
   ]
  },
  {
   "cell_type": "code",
   "execution_count": null,
   "metadata": {},
   "outputs": [],
   "source": []
  }
 ],
 "metadata": {
  "kernelspec": {
   "display_name": "Python 3",
   "language": "python",
   "name": "python3"
  },
  "language_info": {
   "codemirror_mode": {
    "name": "ipython",
    "version": 3
   },
   "file_extension": ".py",
   "mimetype": "text/x-python",
   "name": "python",
   "nbconvert_exporter": "python",
   "pygments_lexer": "ipython3",
   "version": "3.7.4"
  }
 },
 "nbformat": 4,
 "nbformat_minor": 2
}
